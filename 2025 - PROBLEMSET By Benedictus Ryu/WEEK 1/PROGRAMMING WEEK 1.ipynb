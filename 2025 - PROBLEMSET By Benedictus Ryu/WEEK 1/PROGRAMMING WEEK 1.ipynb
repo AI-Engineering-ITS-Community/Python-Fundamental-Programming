{
  "nbformat": 4,
  "nbformat_minor": 0,
  "metadata": {
    "colab": {
      "provenance": []
    },
    "kernelspec": {
      "name": "python3",
      "display_name": "Python 3"
    },
    "language_info": {
      "name": "python"
    }
  },
  "cells": [
    {
      "cell_type": "markdown",
      "source": [
        "# PROB 1: Bilangan Apa tuh?"
      ],
      "metadata": {
        "id": "5K-FkTko9YJn"
      }
    },
    {
      "cell_type": "code",
      "execution_count": null,
      "metadata": {
        "colab": {
          "base_uri": "https://localhost:8080/"
        },
        "id": "H9Zj9J0L9WRl",
        "outputId": "8f49251b-cdf5-4ec9-9ede-2343511b3e04"
      },
      "outputs": [
        {
          "output_type": "stream",
          "name": "stdout",
          "text": [
            "4\n",
            "PANAS\n"
          ]
        }
      ],
      "source": [
        "a = int(input())\n",
        "\n",
        "if a>4:\n",
        "  print(\"HUJANDERAS\")\n",
        "else:\n",
        "  print(\"PANAS\")"
      ]
    },
    {
      "cell_type": "markdown",
      "source": [
        "# PROB 2: Kevin Baik Hati"
      ],
      "metadata": {
        "id": "ZLwK8AOi-cg1"
      }
    },
    {
      "cell_type": "code",
      "source": [
        "li = list(map(int,input().split()))\n",
        "x = li[0]\n",
        "y = li[1]\n",
        "\n",
        "if y!= 0 and x%y == 0:\n",
        "  print(\"BISA\")\n",
        "else:\n",
        "  print(\"MAAF\")"
      ],
      "metadata": {
        "colab": {
          "base_uri": "https://localhost:8080/"
        },
        "id": "KSGPxucR-g6F",
        "outputId": "7b463867-9fe6-4eb3-f749-4908b935ee28"
      },
      "execution_count": null,
      "outputs": [
        {
          "output_type": "stream",
          "name": "stdout",
          "text": [
            "5 0\n",
            "MAAF\n"
          ]
        }
      ]
    },
    {
      "cell_type": "markdown",
      "source": [
        "# PROB 3: IF ELIF ELSE"
      ],
      "metadata": {
        "id": "cfyyOYG9_H_c"
      }
    },
    {
      "cell_type": "code",
      "source": [
        "s = list(input().split())\n",
        "\n",
        "s1 = len(s[0])\n",
        "s2 = len(s[1])\n",
        "s3 = len(s[2])\n",
        "\n",
        "if s1 == s2 or s2 == s3 or s1 == s3:\n",
        "  print(\"Hebwueh\")\n",
        "elif (s1 < s2 and s2 > s3) or (s1 > s2 and s2 < s3):\n",
        "  print(\"Yeehaaw\")\n",
        "elif (s1 < s2 and s2 < s3) or (s1 > s2 and s2 > s3):\n",
        "  print(\"Woohoohoo\")"
      ],
      "metadata": {
        "colab": {
          "base_uri": "https://localhost:8080/"
        },
        "id": "YUbvgv6i_Lni",
        "outputId": "4d690419-00aa-4c63-90ea-8345e46f5b54"
      },
      "execution_count": null,
      "outputs": [
        {
          "output_type": "stream",
          "name": "stdout",
          "text": [
            "aku suka dasprog\n",
            "Woohoohoo\n"
          ]
        }
      ]
    },
    {
      "cell_type": "markdown",
      "source": [
        "# PROB 4: Kevin Rajin Pushrank"
      ],
      "metadata": {
        "id": "2FeqVblLAvpy"
      }
    },
    {
      "cell_type": "code",
      "source": [
        "n = int(input())\n",
        "\n",
        "if n < 899:\n",
        "  print(\"Bronze\")\n",
        "elif n >= 899 and n < 1098:\n",
        "  print(\"Warior\")\n",
        "elif n >= 1098 and n < 3501:\n",
        "  print(\"Mythic\")\n",
        "elif n >= 3501 and n < 4738:\n",
        "  print(\"Legend\")\n",
        "else:\n",
        "  print(\"Epic\")"
      ],
      "metadata": {
        "colab": {
          "base_uri": "https://localhost:8080/"
        },
        "id": "Bxbtu_W-AYdC",
        "outputId": "7c42e5ec-7c3d-439b-905f-eed716c720c1"
      },
      "execution_count": null,
      "outputs": [
        {
          "output_type": "stream",
          "name": "stdout",
          "text": [
            "3730\n",
            "Legend\n"
          ]
        }
      ]
    },
    {
      "cell_type": "markdown",
      "source": [
        "# PROB 5: Huruf Dikali"
      ],
      "metadata": {
        "id": "cHYiKiOTBU8Z"
      }
    },
    {
      "cell_type": "code",
      "source": [
        "s = input()\n",
        "s = s.lower()\n",
        "mult = 1\n",
        "for alpa in s:\n",
        "  if alpa.isnumeric():\n",
        "    mult*= int(alpa)\n",
        "  else:\n",
        "    mult *= (ord(alpa) - ord('a') + 1)\n",
        "print(mult)"
      ],
      "metadata": {
        "colab": {
          "base_uri": "https://localhost:8080/"
        },
        "id": "YhuQVFD6BZDw",
        "outputId": "35376635-553e-41d6-f664-e3f8f291c16b"
      },
      "execution_count": null,
      "outputs": [
        {
          "output_type": "stream",
          "name": "stdout",
          "text": [
            "1245\n",
            "40\n"
          ]
        }
      ]
    },
    {
      "cell_type": "markdown",
      "source": [
        "# PROB 6:\n",
        "Panji belanja dengan harga sejumlah N dan terdapat ketentuan dalam membayar belanjaanya. Jika N\n",
        "adalah bilangan genap maka harganya berkurang sebanyak setengahnya dan jika ganjil maka\n",
        "harganya berkurang sebanyak seperempatnya.\n"
      ],
      "metadata": {
        "id": "ctEtH_GEDtvn"
      }
    },
    {
      "cell_type": "code",
      "source": [
        "n = int(input())\n",
        "\n",
        "if n%2 == 0:\n",
        "  print(n/2)\n",
        "else:\n",
        "  print((3*n)/4)"
      ],
      "metadata": {
        "colab": {
          "base_uri": "https://localhost:8080/"
        },
        "id": "x-I7NnrMDzf9",
        "outputId": "6008bc19-427a-4eb3-b40e-336b3f23f16c"
      },
      "execution_count": null,
      "outputs": [
        {
          "output_type": "stream",
          "name": "stdout",
          "text": [
            "5\n",
            "3.75\n"
          ]
        }
      ]
    },
    {
      "cell_type": "markdown",
      "source": [
        "# PROB 7:\n",
        "Panji ingin mencetak sebuah string sepanjang N dengan pola sebagai berikut"
      ],
      "metadata": {
        "id": "k6HW15MZEDBl"
      }
    },
    {
      "cell_type": "code",
      "source": [
        "n = int(input())\n",
        "\n",
        "for i in range(n):\n",
        "  if i%4 == 0 or i%4 == 1:\n",
        "    print(\"#\",end=\"\")\n",
        "  else:\n",
        "    print(\"*\",end=\"\")"
      ],
      "metadata": {
        "colab": {
          "base_uri": "https://localhost:8080/"
        },
        "id": "-GpBp1L6EGB0",
        "outputId": "1df4af03-ff1f-4e18-eee9-50df93b036e1"
      },
      "execution_count": null,
      "outputs": [
        {
          "output_type": "stream",
          "name": "stdout",
          "text": [
            "6\n",
            "##**##"
          ]
        }
      ]
    },
    {
      "cell_type": "markdown",
      "source": [
        "# PROB 8:\n",
        "Panji ingin mencetak format matriks berukuran N x M dengan pola"
      ],
      "metadata": {
        "id": "i9UaL_0oEaQ9"
      }
    },
    {
      "cell_type": "code",
      "source": [
        "li = list(map(int,input().split()))\n",
        "n = li[0]\n",
        "m = li[1]\n",
        "\n",
        "for i in range(n):\n",
        "  for j in range(m):\n",
        "    if i%2 == 0:\n",
        "      if j%4 == 0 or j%4 == 1:\n",
        "        print(\"*\",end=\"\")\n",
        "      else:\n",
        "        print(\"#\",end=\"\")\n",
        "    else:\n",
        "      if j%4 == 0 or j%4 == 1:\n",
        "        print(\"#\",end=\"\")\n",
        "      else:\n",
        "        print(\"*\",end=\"\")\n",
        "  print()"
      ],
      "metadata": {
        "colab": {
          "base_uri": "https://localhost:8080/"
        },
        "id": "L9CDq6SKEj29",
        "outputId": "c26bbd4b-96bf-49c0-c02b-526c1f3ee914"
      },
      "execution_count": null,
      "outputs": [
        {
          "output_type": "stream",
          "name": "stdout",
          "text": [
            "3 6\n",
            "**##**\n",
            "##**##\n",
            "**##**\n"
          ]
        }
      ]
    },
    {
      "cell_type": "markdown",
      "source": [
        "# PROB 9:\n"
      ],
      "metadata": {
        "id": "t50qTmOYGo3a"
      }
    },
    {
      "cell_type": "code",
      "source": [
        "n = int(input())\n",
        "\n",
        "if n%2 == 0:\n",
        "  for i in range(n):\n",
        "    if i%2 == 0:\n",
        "      print(\"*\",end=\"\")\n",
        "    else:\n",
        "      print(\"#\",end=\"\")\n",
        "else:\n",
        "  for i in range(n):\n",
        "    if i%2 ==0:\n",
        "      print(\"#\",end=\"\")\n",
        "    else:\n",
        "      print(\"*\",end=\"\")"
      ],
      "metadata": {
        "colab": {
          "base_uri": "https://localhost:8080/"
        },
        "id": "9nrJDiF1F7PE",
        "outputId": "21cc2fae-2d07-4b5f-ca65-377b22f3d028"
      },
      "execution_count": null,
      "outputs": [
        {
          "output_type": "stream",
          "name": "stdout",
          "text": [
            "6\n",
            "*#*#*#"
          ]
        }
      ]
    },
    {
      "cell_type": "markdown",
      "source": [
        "# PROB 10:"
      ],
      "metadata": {
        "id": "helMv5ozGv9i"
      }
    },
    {
      "cell_type": "code",
      "source": [
        "li = list(map(int,input().split()))\n",
        "n = li[0]\n",
        "m = li[1]\n",
        "\n",
        "for i in range(n):\n",
        "  for j in range(m):\n",
        "    if i%2 == 0:\n",
        "      if j%2 == 0:\n",
        "        print(\"*\",end=\"\")\n",
        "      else:\n",
        "        print(\"#\",end=\"\")\n",
        "    else:\n",
        "      if j%2 ==0:\n",
        "        print(\"#\",end=\"\")\n",
        "      else:\n",
        "        print(\"*\",end=\"\")\n",
        "  print()"
      ],
      "metadata": {
        "colab": {
          "base_uri": "https://localhost:8080/"
        },
        "id": "AdwbcXHvGz6C",
        "outputId": "c28bd01a-f5fd-4f8d-de56-5820bd0053d0"
      },
      "execution_count": null,
      "outputs": [
        {
          "output_type": "stream",
          "name": "stdout",
          "text": [
            "3 6\n",
            "*#*#*#\n",
            "#*#*#*\n",
            "*#*#*#\n"
          ]
        }
      ]
    },
    {
      "cell_type": "markdown",
      "source": [
        "# PROB 11:"
      ],
      "metadata": {
        "id": "6TFq5DEKHvxB"
      }
    },
    {
      "cell_type": "code",
      "source": [
        "n = int(input())\n",
        "\n",
        "for i in range(1,n+1):\n",
        "  for j in range(1,i+1):\n",
        "    print(j)"
      ],
      "metadata": {
        "colab": {
          "base_uri": "https://localhost:8080/"
        },
        "id": "1ap7eH-NH2zh",
        "outputId": "cc7ad066-b19e-4395-ee80-11a8aec331c6"
      },
      "execution_count": null,
      "outputs": [
        {
          "output_type": "stream",
          "name": "stdout",
          "text": [
            "3\n",
            "1\n",
            "1\n",
            "2\n",
            "1\n",
            "2\n",
            "3\n"
          ]
        }
      ]
    },
    {
      "cell_type": "markdown",
      "source": [
        "# PROB 12:"
      ],
      "metadata": {
        "id": "xvk-8EALIOwK"
      }
    },
    {
      "cell_type": "code",
      "source": [
        "a = input()\n",
        "b = input()\n",
        "\n",
        "a = a[::-1]\n",
        "check = True\n",
        "base = ord(b[0]) - ord(a[0])\n",
        "\n",
        "if len(a) != len(b):\n",
        "  check=False\n",
        "\n",
        "a = a.replace(\" \", \"\")\n",
        "b = b.replace(\" \", \"\")\n",
        "n = len(min(a,b))\n",
        "\n",
        "for i in range(1,n):\n",
        "  tmp = ord(b[i]) - ord(a[i])\n",
        "  check &= (tmp+26 if tmp<0 else tmp) == base\n",
        "\n",
        "if check:\n",
        "  print(f\"Silahkan berjalan sejauh {base} Meter\")\n",
        "else:\n",
        "  print(\"Mending pulang aja\")"
      ],
      "metadata": {
        "colab": {
          "base_uri": "https://localhost:8080/"
        },
        "id": "_vtqzf1nIQd4",
        "outputId": "7a46fd37-0d79-4d04-e87f-e344891632d8"
      },
      "execution_count": null,
      "outputs": [
        {
          "output_type": "stream",
          "name": "stdout",
          "text": [
            "abcd\n",
            "a\n",
            "Mending pulang aja\n"
          ]
        }
      ]
    }
  ]
}