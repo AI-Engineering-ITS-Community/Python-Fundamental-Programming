{
 "cells": [
  {
   "cell_type": "markdown",
   "id": "358344ba",
   "metadata": {},
   "source": [
    "# Soal Pagar-pagar"
   ]
  },
  {
   "cell_type": "code",
   "execution_count": null,
   "id": "dd536a11",
   "metadata": {
    "vscode": {
     "languageId": "plaintext"
    }
   },
   "outputs": [],
   "source": [
    "n = int(input())\n",
    "for i in range(n):\n",
    "    for j in range(i+1):\n",
    "        print(\"#\", end=\"\")\n",
    "    print()"
   ]
  },
  {
   "cell_type": "markdown",
   "id": "926c4695",
   "metadata": {},
   "source": [
    "# Angka-angka lagi"
   ]
  },
  {
   "cell_type": "code",
   "execution_count": null,
   "id": "b36f1611",
   "metadata": {
    "vscode": {
     "languageId": "plaintext"
    }
   },
   "outputs": [],
   "source": [
    "n = int(input())\n",
    "for i in range(n):\n",
    "    for j in range(i+1):\n",
    "        print(j+1, end=\"\")\n",
    "    print()"
   ]
  },
  {
   "cell_type": "markdown",
   "id": "99514a24",
   "metadata": {},
   "source": [
    "# Angka Angka Lagi Tapi Kebalik "
   ]
  },
  {
   "cell_type": "code",
   "execution_count": null,
   "id": "421b12f2",
   "metadata": {
    "vscode": {
     "languageId": "plaintext"
    }
   },
   "outputs": [],
   "source": [
    "n = int(input())\n",
    "for i in range(n):\n",
    "    for j in range(i+1):\n",
    "        print(i-j+1, end=\"\")\n",
    "    print()"
   ]
  },
  {
   "cell_type": "markdown",
   "id": "821add80",
   "metadata": {},
   "source": [
    "# Angka Angka Lagi Tapi Kebalik Lagi "
   ]
  },
  {
   "cell_type": "code",
   "execution_count": null,
   "id": "61fb724d",
   "metadata": {
    "vscode": {
     "languageId": "plaintext"
    }
   },
   "outputs": [],
   "source": [
    "n = int(input())\n",
    "for i in range(n):\n",
    "    for j in range(n-i):\n",
    "        print(j+1, end=\"\")\n",
    "    print()"
   ]
  },
  {
   "cell_type": "markdown",
   "id": "2fb53000",
   "metadata": {},
   "source": [
    "# Angka Angka Lagi Tapi Kebalik Banget"
   ]
  },
  {
   "cell_type": "code",
   "execution_count": null,
   "id": "a8e70a14",
   "metadata": {
    "vscode": {
     "languageId": "plaintext"
    }
   },
   "outputs": [],
   "source": [
    "n = int(input())\n",
    "for i in range(n):\n",
    "    for j in range(n-i,0,-1):\n",
    "        print(j, end=\"\")\n",
    "    print()"
   ]
  }
 ],
 "metadata": {
  "language_info": {
   "name": "python"
  }
 },
 "nbformat": 4,
 "nbformat_minor": 5
}
