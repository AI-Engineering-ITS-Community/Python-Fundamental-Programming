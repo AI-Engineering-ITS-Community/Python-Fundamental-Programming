{
 "cells": [
  {
   "cell_type": "markdown",
   "id": "e611026c",
   "metadata": {},
   "source": [
    "# Soal 1"
   ]
  },
  {
   "cell_type": "code",
   "execution_count": 1,
   "id": "c1b3903d",
   "metadata": {},
   "outputs": [
    {
     "name": "stdout",
     "output_type": "stream",
     "text": [
      "##**#"
     ]
    }
   ],
   "source": [
    "n = int(input())\n",
    "\n",
    "for i in range(n):\n",
    "  if i%4 == 0 or i%4 == 1:\n",
    "    print(\"#\",end=\"\")\n",
    "  else:\n",
    "    print(\"*\",end=\"\")"
   ]
  },
  {
   "cell_type": "markdown",
   "id": "e8926903",
   "metadata": {},
   "source": [
    "# Soal 2"
   ]
  },
  {
   "cell_type": "code",
   "execution_count": 3,
   "id": "8ea8920e",
   "metadata": {},
   "outputs": [
    {
     "name": "stdout",
     "output_type": "stream",
     "text": [
      "**##**\n",
      "##**##\n",
      "**##**\n"
     ]
    }
   ],
   "source": [
    "li = list(map(int,input().split()))\n",
    "n = li[0]\n",
    "m = li[1]\n",
    "\n",
    "for i in range(n):\n",
    "  for j in range(m):\n",
    "    if i%2 == 0:\n",
    "      if j%4 == 0 or j%4 == 1:\n",
    "        print(\"*\",end=\"\")\n",
    "      else:\n",
    "        print(\"#\",end=\"\")\n",
    "    else:\n",
    "      if j%4 == 0 or j%4 == 1:\n",
    "        print(\"#\",end=\"\")\n",
    "      else:\n",
    "        print(\"*\",end=\"\")\n",
    "  print()"
   ]
  },
  {
   "cell_type": "markdown",
   "id": "e9e8ea68",
   "metadata": {},
   "source": [
    "# Soal 3"
   ]
  },
  {
   "cell_type": "code",
   "execution_count": 5,
   "id": "2424b67f",
   "metadata": {},
   "outputs": [
    {
     "name": "stdout",
     "output_type": "stream",
     "text": [
      "*#*#*#"
     ]
    }
   ],
   "source": [
    "n = int(input())\n",
    "\n",
    "if n%2 == 0:\n",
    "  for i in range(n):\n",
    "    if i%2 == 0:\n",
    "      print(\"*\",end=\"\")\n",
    "    else:\n",
    "      print(\"#\",end=\"\")\n",
    "else:\n",
    "  for i in range(n):\n",
    "    if i%2 ==0:\n",
    "      print(\"#\",end=\"\")\n",
    "    else:\n",
    "      print(\"*\",end=\"\")"
   ]
  },
  {
   "cell_type": "markdown",
   "id": "e220f80f",
   "metadata": {},
   "source": [
    "# Soal 4"
   ]
  },
  {
   "cell_type": "code",
   "execution_count": 7,
   "id": "44a446ec",
   "metadata": {},
   "outputs": [
    {
     "name": "stdout",
     "output_type": "stream",
     "text": [
      "*#*#*#\n",
      "#*#*#*\n",
      "*#*#*#\n"
     ]
    }
   ],
   "source": [
    "li = list(map(int,input().split()))\n",
    "n = li[0]\n",
    "m = li[1]\n",
    "\n",
    "for i in range(n):\n",
    "  for j in range(m):\n",
    "    if i%2 == 0:\n",
    "      if j%2 == 0:\n",
    "        print(\"*\",end=\"\")\n",
    "      else:\n",
    "        print(\"#\",end=\"\")\n",
    "    else:\n",
    "      if j%2 ==0:\n",
    "        print(\"#\",end=\"\")\n",
    "      else:\n",
    "        print(\"*\",end=\"\")\n",
    "  print()"
   ]
  }
 ],
 "metadata": {
  "kernelspec": {
   "display_name": "dsml",
   "language": "python",
   "name": "python3"
  },
  "language_info": {
   "codemirror_mode": {
    "name": "ipython",
    "version": 3
   },
   "file_extension": ".py",
   "mimetype": "text/x-python",
   "name": "python",
   "nbconvert_exporter": "python",
   "pygments_lexer": "ipython3",
   "version": "3.13.5"
  }
 },
 "nbformat": 4,
 "nbformat_minor": 5
}
