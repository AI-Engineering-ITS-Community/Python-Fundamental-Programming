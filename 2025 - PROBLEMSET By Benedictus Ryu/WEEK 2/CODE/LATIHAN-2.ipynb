{
 "cells": [
  {
   "cell_type": "markdown",
   "id": "43b84f11",
   "metadata": {},
   "source": [
    "# Soal 4"
   ]
  },
  {
   "cell_type": "code",
   "execution_count": null,
   "id": "6a6877f7",
   "metadata": {},
   "outputs": [],
   "source": [
    "a = 2\n",
    "b = 3\n",
    "c = -1\n",
    "z = a*a + b - c"
   ]
  },
  {
   "cell_type": "markdown",
   "id": "7c4e4b03",
   "metadata": {},
   "source": [
    "# Soal 5"
   ]
  },
  {
   "cell_type": "code",
   "execution_count": 6,
   "id": "959ad5b9",
   "metadata": {},
   "outputs": [
    {
     "data": {
      "text/plain": [
       "('abdan hafid sasa ', '18')"
      ]
     },
     "execution_count": 6,
     "metadata": {},
     "output_type": "execute_result"
    }
   ],
   "source": [
    "nama = list(map(str,input().split()))\n",
    "_ , _ , age, _ = map(str,input().split())\n",
    "\n",
    "\n",
    "name = \"\"\n",
    "for i in range(2,len(nama)):\n",
    "    name += nama[i] + \" \"\n",
    "name,age"
   ]
  },
  {
   "cell_type": "markdown",
   "id": "8fe2a4c0",
   "metadata": {},
   "source": [
    "# Soal 6"
   ]
  },
  {
   "cell_type": "code",
   "execution_count": 8,
   "id": "dec565a6",
   "metadata": {},
   "outputs": [
    {
     "name": "stdout",
     "output_type": "stream",
     "text": [
      "Total Belanjaan : 22000\n"
     ]
    }
   ],
   "source": [
    "apel = 6000\n",
    "jeruk = 2000\n",
    "anggur = 1000\n",
    "\n",
    "print(f\"Total Belanjaan : {3*apel+2*anggur+jeruk}\")"
   ]
  },
  {
   "cell_type": "markdown",
   "id": "1f0e8ed9",
   "metadata": {},
   "source": [
    "# Soal 7"
   ]
  },
  {
   "cell_type": "code",
   "execution_count": 9,
   "id": "5c8c11f3",
   "metadata": {},
   "outputs": [
    {
     "name": "stdout",
     "output_type": "stream",
     "text": [
      "Kembalian : -5000\n"
     ]
    }
   ],
   "source": [
    "mangga = 3000\n",
    "melon = 10000\n",
    "anggur = 3000\n",
    "uang_abdan = 20000\n",
    "print(f\"Kembalian : {uang_abdan - 2*mangga - melon - 3*anggur}\")"
   ]
  },
  {
   "cell_type": "markdown",
   "id": "cb0e55b6",
   "metadata": {},
   "source": [
    "# Kumpulkan Uang Kas !"
   ]
  },
  {
   "cell_type": "code",
   "execution_count": 10,
   "id": "256cfaec",
   "metadata": {},
   "outputs": [
    {
     "data": {
      "text/plain": [
       "3000"
      ]
     },
     "execution_count": 10,
     "metadata": {},
     "output_type": "execute_result"
    }
   ],
   "source": [
    "a,b = list(map(int,input().split()))\n",
    "a*b"
   ]
  },
  {
   "cell_type": "markdown",
   "id": "3f59fb0f",
   "metadata": {},
   "source": [
    "# Baru Belajar Aljabar "
   ]
  },
  {
   "cell_type": "code",
   "execution_count": null,
   "id": "6a9813fb",
   "metadata": {},
   "outputs": [
    {
     "name": "stdout",
     "output_type": "stream",
     "text": [
      "3\n"
     ]
    }
   ],
   "source": [
    "a  = float(input())\n",
    "c = float(input())\n",
    "b = c//a\n",
    "print(b)\n"
   ]
  },
  {
   "cell_type": "markdown",
   "id": "ed9f4687",
   "metadata": {},
   "source": [
    "# Belajar Aljabar Lagi "
   ]
  },
  {
   "cell_type": "code",
   "execution_count": 15,
   "id": "a45a4ec2",
   "metadata": {},
   "outputs": [
    {
     "name": "stdout",
     "output_type": "stream",
     "text": [
      "3.0\n"
     ]
    }
   ],
   "source": [
    "a,c,d = map(int, input().split())\n",
    "b = (c+d)/a\n",
    "print(b)"
   ]
  },
  {
   "cell_type": "markdown",
   "id": "64da9ad2",
   "metadata": {},
   "source": [
    "# Tukar Hadiah "
   ]
  },
  {
   "cell_type": "code",
   "execution_count": 16,
   "id": "70d53e41",
   "metadata": {},
   "outputs": [
    {
     "data": {
      "text/plain": [
       "(0, 0, 4, 0)"
      ]
     },
     "execution_count": 16,
     "metadata": {},
     "output_type": "execute_result"
    }
   ],
   "source": [
    "abdan, kevin, arya, albert = map(int,input().split())\n",
    "arya, abdan = arya + abdan, 0\n",
    "abdan, albert = albert + abdan, 0\n",
    "abdan, kevin = kevin + abdan, 0\n",
    "albert, abdan = albert + abdan, 0\n",
    "arya, albert = arya + albert, 0\n",
    "\n",
    "abdan, kevin, arya, albert\n",
    "\n"
   ]
  },
  {
   "cell_type": "markdown",
   "id": "859bb1ae",
   "metadata": {},
   "source": [
    "# Update Variabel "
   ]
  },
  {
   "cell_type": "code",
   "execution_count": 18,
   "id": "6dd254a8",
   "metadata": {},
   "outputs": [
    {
     "data": {
      "text/plain": [
       "(3, 2)"
      ]
     },
     "execution_count": 18,
     "metadata": {},
     "output_type": "execute_result"
    }
   ],
   "source": [
    "a,b = map(int,input().split())\n",
    "c,d = map(int,input().split())\n",
    "a+c, b+d"
   ]
  },
  {
   "cell_type": "markdown",
   "id": "dd6b7b07",
   "metadata": {},
   "source": [
    "# Update Variabel (Lagi) "
   ]
  },
  {
   "cell_type": "code",
   "execution_count": 2,
   "id": "546dd14d",
   "metadata": {},
   "outputs": [
    {
     "data": {
      "text/plain": [
       "(1.0, 1.0)"
      ]
     },
     "execution_count": 2,
     "metadata": {},
     "output_type": "execute_result"
    }
   ],
   "source": [
    "a,b = map(int,input().split())\n",
    "c,d = map(int,input().split())\n",
    "\n",
    "a += c\n",
    "b += d\n",
    "a,b = b,a\n",
    "b -= a\n",
    "a = c/a\n",
    "b = b*a\n",
    "a,b"
   ]
  },
  {
   "cell_type": "markdown",
   "id": "ce788560",
   "metadata": {},
   "source": [
    "# Bilangan Apa tuh? "
   ]
  },
  {
   "cell_type": "code",
   "execution_count": null,
   "id": "e93be286",
   "metadata": {},
   "outputs": [],
   "source": [
    "a = int(input())\n",
    "if a > 4:\n",
    "    print(\"PANAS\")\n",
    "else:\n",
    "    print(\"HUJANDERAS\")"
   ]
  },
  {
   "cell_type": "markdown",
   "id": "6b34217c",
   "metadata": {},
   "source": [
    "# Bilangan Apa tuh Lagi? "
   ]
  },
  {
   "cell_type": "code",
   "execution_count": 4,
   "id": "8926d86a",
   "metadata": {},
   "outputs": [
    {
     "name": "stdout",
     "output_type": "stream",
     "text": [
      "HUJANDERAS\n"
     ]
    }
   ],
   "source": [
    "a = int(input())\n",
    "if a-3 > 1:\n",
    "    print(\"HUJANDERAS\")\n",
    "else:\n",
    "    print(\"PANAS\")"
   ]
  },
  {
   "cell_type": "markdown",
   "id": "bcb15f3b",
   "metadata": {},
   "source": [
    "# Bilangan Apa tuh Lagi 2? "
   ]
  },
  {
   "cell_type": "code",
   "execution_count": 6,
   "id": "610bbf2c",
   "metadata": {},
   "outputs": [
    {
     "name": "stdout",
     "output_type": "stream",
     "text": [
      "PANAS\n"
     ]
    }
   ],
   "source": [
    "a = int(input())\n",
    "if a%5==2:\n",
    "    print(\"HUJANDERAS\")\n",
    "else:\n",
    "    print(\"PANAS\")"
   ]
  },
  {
   "cell_type": "markdown",
   "id": "6f4f6771",
   "metadata": {},
   "source": [
    "# Kevin Baik Hati"
   ]
  },
  {
   "cell_type": "code",
   "execution_count": 8,
   "id": "19b8df2b",
   "metadata": {},
   "outputs": [
    {
     "name": "stdout",
     "output_type": "stream",
     "text": [
      "BISA\n"
     ]
    }
   ],
   "source": [
    "a,b = map(int, input().split())\n",
    "if a%b == 0:\n",
    "    print(\"BISA\")\n",
    "else:\n",
    "    print(\"MAAF\")\n",
    "    "
   ]
  },
  {
   "cell_type": "markdown",
   "id": "784780c2",
   "metadata": {},
   "source": [
    "# Kevin Baik Hati "
   ]
  },
  {
   "cell_type": "code",
   "execution_count": 11,
   "id": "1ec93cb6",
   "metadata": {},
   "outputs": [
    {
     "name": "stdout",
     "output_type": "stream",
     "text": [
      "MAAF\n"
     ]
    }
   ],
   "source": [
    "x,y,z= map(int, input().split())\n",
    "if (x+z)/y == 0:\n",
    "    print(\"BISA\")\n",
    "else:\n",
    "    print(\"MAAF\")"
   ]
  },
  {
   "cell_type": "markdown",
   "id": "288d45fe",
   "metadata": {},
   "source": [
    "# Ga Dulu Matematika "
   ]
  },
  {
   "cell_type": "code",
   "execution_count": null,
   "id": "38e48ace",
   "metadata": {},
   "outputs": [],
   "source": []
  },
  {
   "cell_type": "markdown",
   "id": "ff6a4d1c",
   "metadata": {},
   "source": [
    "# Banyak Banyakan Angpao "
   ]
  },
  {
   "cell_type": "code",
   "execution_count": 14,
   "id": "df01f8d2",
   "metadata": {},
   "outputs": [
    {
     "name": "stdout",
     "output_type": "stream",
     "text": [
      "Seri\n"
     ]
    }
   ],
   "source": [
    "n,m = map(int,input().split())\n",
    "if n > m:\n",
    "    print(\"Kevin\")\n",
    "elif m > n:\n",
    "    print(\"Abdan\")\n",
    "else:\n",
    "    print(\"Seri\")"
   ]
  },
  {
   "cell_type": "markdown",
   "id": "06ba5b11",
   "metadata": {},
   "source": [
    "# Periksa Angpao "
   ]
  },
  {
   "cell_type": "code",
   "execution_count": 15,
   "id": "3c1cb4f2",
   "metadata": {},
   "outputs": [
    {
     "name": "stdout",
     "output_type": "stream",
     "text": [
      "Ya\n"
     ]
    }
   ],
   "source": [
    "n = int(input())\n",
    "if 100 <= n <= 999:\n",
    "    print(\"Ya\")\n",
    "else:\n",
    "    print(\"Tidak\") "
   ]
  },
  {
   "cell_type": "markdown",
   "id": "33222d74",
   "metadata": {},
   "source": [
    "# Angka Ajaib "
   ]
  },
  {
   "cell_type": "code",
   "execution_count": 20,
   "id": "d69d864b",
   "metadata": {},
   "outputs": [
    {
     "name": "stdout",
     "output_type": "stream",
     "text": [
      "Ratusan\n"
     ]
    }
   ],
   "source": [
    "n = int(input())\n",
    "\n",
    "if n <10:\n",
    "    print(\"Satuan\")\n",
    "elif 10<= n < 100:\n",
    "    print(\"Puluhan\")\n",
    "elif 100 <= n <= 999:\n",
    "    print(\"Ratusan\")\n",
    "else:\n",
    "    print(\"Lebih dari ratusan\") "
   ]
  },
  {
   "cell_type": "markdown",
   "id": "0deac5e7",
   "metadata": {},
   "source": [
    "# Kevin Rajin Pushrank "
   ]
  },
  {
   "cell_type": "code",
   "execution_count": 22,
   "id": "afa5eae4",
   "metadata": {},
   "outputs": [
    {
     "name": "stdout",
     "output_type": "stream",
     "text": [
      "Mythic\n"
     ]
    }
   ],
   "source": [
    "n = int(input())\n",
    "\n",
    "if n < 899:\n",
    "  print(\"Bronze\")\n",
    "elif n >= 899 and n < 1098:\n",
    "  print(\"Warior\")\n",
    "elif n >= 1098 and n < 3501:\n",
    "  print(\"Mythic\")\n",
    "elif n >= 3501 and n < 4738:\n",
    "  print(\"Legend\")\n",
    "else:\n",
    "  print(\"Epic\")"
   ]
  },
  {
   "cell_type": "markdown",
   "id": "76749015",
   "metadata": {},
   "source": [
    "# Kotak Ajaib "
   ]
  },
  {
   "cell_type": "code",
   "execution_count": null,
   "id": "29ab3fc0",
   "metadata": {},
   "outputs": [],
   "source": [
    "kotak = list(map(int,input().split()))\n",
    "x,y = map(int,input().split())\n",
    "kotak[2] +kotak[3]"
   ]
  },
  {
   "cell_type": "markdown",
   "id": "3bbe9598",
   "metadata": {},
   "source": [
    "# Daftar Angka Bagus "
   ]
  },
  {
   "cell_type": "code",
   "execution_count": 27,
   "id": "337f6ac9",
   "metadata": {},
   "outputs": [
    {
     "data": {
      "text/plain": [
       "3"
      ]
     },
     "execution_count": 27,
     "metadata": {},
     "output_type": "execute_result"
    }
   ],
   "source": [
    "kotak = list(map(int,input().split()))\n",
    "x,y = map(int,input().split())\n",
    "kotak[2] +kotak[3]"
   ]
  },
  {
   "cell_type": "markdown",
   "id": "282027f8",
   "metadata": {},
   "source": [
    "# Angka Angka "
   ]
  },
  {
   "cell_type": "code",
   "execution_count": null,
   "id": "8cbf5242",
   "metadata": {},
   "outputs": [],
   "source": [
    "n = int(input())\n",
    "\n",
    "for i in range(1,n+1):\n",
    "  for j in range(1,i+1):\n",
    "    print(j)"
   ]
  },
  {
   "cell_type": "markdown",
   "id": "91529974",
   "metadata": {},
   "source": [
    "# Pagar - Pagar "
   ]
  },
  {
   "cell_type": "code",
   "execution_count": null,
   "id": "24871494",
   "metadata": {},
   "outputs": [],
   "source": [
    "n = int(input())\n",
    "for i in range(n):\n",
    "    for j in range(i+1):\n",
    "        print(\"#\", end=\"\")\n",
    "    print()"
   ]
  },
  {
   "cell_type": "markdown",
   "id": "8a9743c3",
   "metadata": {},
   "source": [
    "# Angka Angka Lagi "
   ]
  },
  {
   "cell_type": "code",
   "execution_count": 24,
   "id": "4c764975",
   "metadata": {},
   "outputs": [
    {
     "name": "stdout",
     "output_type": "stream",
     "text": [
      "1\n",
      "12\n",
      "123\n"
     ]
    }
   ],
   "source": [
    "n = int(input())\n",
    "for i in range(n):\n",
    "    for j in range(i+1):\n",
    "        print(j+1, end=\"\")\n",
    "    print()"
   ]
  },
  {
   "cell_type": "markdown",
   "id": "b78ea958",
   "metadata": {},
   "source": [
    "# Angka Angka Lagi Tapi Kebalik "
   ]
  },
  {
   "cell_type": "code",
   "execution_count": 25,
   "id": "6888385b",
   "metadata": {},
   "outputs": [
    {
     "name": "stdout",
     "output_type": "stream",
     "text": [
      "123\n",
      "12\n",
      "1\n"
     ]
    }
   ],
   "source": [
    "n = int(input())\n",
    "for i in range(n):\n",
    "    for j in range(n-i):\n",
    "        print(j+1, end=\"\")\n",
    "    print()"
   ]
  },
  {
   "cell_type": "markdown",
   "id": "714616ae",
   "metadata": {},
   "source": [
    "# Angka Angka Lagi Tapi Kebalik Banget "
   ]
  },
  {
   "cell_type": "code",
   "execution_count": 26,
   "id": "298ff566",
   "metadata": {},
   "outputs": [
    {
     "name": "stdout",
     "output_type": "stream",
     "text": [
      "321\n",
      "21\n",
      "1\n"
     ]
    }
   ],
   "source": [
    "n = int(input())\n",
    "for i in range(n):\n",
    "    for j in range(n-i,0,-1):\n",
    "        print(j, end=\"\")\n",
    "    print()"
   ]
  }
 ],
 "metadata": {
  "kernelspec": {
   "display_name": "dsml",
   "language": "python",
   "name": "python3"
  },
  "language_info": {
   "codemirror_mode": {
    "name": "ipython",
    "version": 3
   },
   "file_extension": ".py",
   "mimetype": "text/x-python",
   "name": "python",
   "nbconvert_exporter": "python",
   "pygments_lexer": "ipython3",
   "version": "3.13.5"
  }
 },
 "nbformat": 4,
 "nbformat_minor": 5
}
