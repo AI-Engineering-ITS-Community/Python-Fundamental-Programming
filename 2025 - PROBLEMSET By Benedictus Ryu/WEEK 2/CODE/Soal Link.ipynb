{
 "cells": [
  {
   "cell_type": "markdown",
   "id": "438ca5c0",
   "metadata": {},
   "source": [
    "# SOAL LOOP (MEDIUM-HARD)"
   ]
  },
  {
   "cell_type": "markdown",
   "id": "1f6f17f2",
   "metadata": {},
   "source": [
    "## PROB 01: WATERMELON\n",
    "https://codeforces.com/problemset/problem/4/A"
   ]
  },
  {
   "cell_type": "code",
   "execution_count": null,
   "id": "e1a4f0e7",
   "metadata": {},
   "outputs": [
    {
     "name": "stdout",
     "output_type": "stream",
     "text": [
      "NO\n"
     ]
    }
   ],
   "source": [
    "n = int(input())\n",
    "if n%2!=0 or n==2:\n",
    "    print(\"NO\")\n",
    "else:\n",
    "    print(\"YES\")"
   ]
  },
  {
   "cell_type": "markdown",
   "id": "261f027c",
   "metadata": {},
   "source": [
    "## PROB 02: TEAM\n",
    "https://codeforces.com/problemset/problem/231/A"
   ]
  },
  {
   "cell_type": "code",
   "execution_count": 2,
   "id": "1c0e2ac9",
   "metadata": {},
   "outputs": [
    {
     "name": "stdout",
     "output_type": "stream",
     "text": [
      "2\n"
     ]
    }
   ],
   "source": [
    "n = int(input())\n",
    "ans = 0\n",
    "for i in range(n):\n",
    "    a,b,c = map(int, input().split())\n",
    "    ans += (1 if a+b+c >=2 else 0)\n",
    "print(ans)"
   ]
  },
  {
   "cell_type": "markdown",
   "id": "f21351bb",
   "metadata": {},
   "source": [
    "## PROB 03: Way Too Long Words\n",
    "https://codeforces.com/problemset/problem/71/A"
   ]
  },
  {
   "cell_type": "code",
   "execution_count": 5,
   "id": "ebce231f",
   "metadata": {},
   "outputs": [
    {
     "name": "stdout",
     "output_type": "stream",
     "text": [
      "word\n",
      "l10n\n",
      "i18n\n",
      "p43s\n"
     ]
    }
   ],
   "source": [
    "n = int(input())\n",
    "for i in range(n):\n",
    "    s = input()\n",
    "    n = len(s)\n",
    "    if n > 10:\n",
    "        print(f\"{s[0]}{n-2}{s[n-1]}\")\n",
    "    else:\n",
    "        print(s)"
   ]
  },
  {
   "cell_type": "markdown",
   "id": "cada251d",
   "metadata": {},
   "source": [
    "## PROB 04: Life, the Universe, and Everything\n",
    "https://www.spoj.com/problems/TEST/"
   ]
  },
  {
   "cell_type": "code",
   "execution_count": 5,
   "id": "9729a105",
   "metadata": {},
   "outputs": [
    {
     "name": "stdout",
     "output_type": "stream",
     "text": [
      "1\n",
      "2\n",
      "4\n"
     ]
    }
   ],
   "source": [
    "n =0\n",
    "\n",
    "while n!=\"42\":\n",
    "    n = input()\n",
    "    if n != \"42\":\n",
    "        print(n)\n",
    "    "
   ]
  },
  {
   "cell_type": "markdown",
   "id": "2e6581d5",
   "metadata": {},
   "source": [
    "## PROB 05: SUMTRIAN - Sums in a Triangle (tutorial)\n",
    "https://www.spoj.com/problems/SUMTRIAN/"
   ]
  },
  {
   "cell_type": "code",
   "execution_count": null,
   "id": "2a8950a5",
   "metadata": {},
   "outputs": [],
   "source": [
    "# NO 5\n",
    "t = int(input())\n",
    "\n",
    "for i in range(t):\n",
    "  n = int(input())\n",
    "  segitiga = []\n",
    "\n",
    "  for j in range(n):\n",
    "    segitiga.append(list(map(int, input().split())))\n",
    "\n",
    "  for j in range(n - 2, -1, -1):\n",
    "    for k in range(len(segitiga[j])):\n",
    "        segitiga[j][k] += max(segitiga[j + 1][k], segitiga[j + 1][k + 1])\n",
    "\n",
    "  print(segitiga[0][0])"
   ]
  },
  {
   "cell_type": "markdown",
   "id": "19191239",
   "metadata": {},
   "source": [
    "## PROB 06: Product\n",
    "https://atcoder.jp/contests/abc086/tasks/abc086_a"
   ]
  },
  {
   "cell_type": "code",
   "execution_count": 7,
   "id": "cf1ada6f",
   "metadata": {},
   "outputs": [
    {
     "name": "stdout",
     "output_type": "stream",
     "text": [
      "Even\n"
     ]
    }
   ],
   "source": [
    "a,b = map(int, input().split())\n",
    "print(\"Odd\" if a*b & 1 else \"Even\")"
   ]
  },
  {
   "cell_type": "markdown",
   "id": "e3ace5d6",
   "metadata": {},
   "source": [
    "## KATAMARI"
   ]
  },
  {
   "cell_type": "code",
   "execution_count": 46,
   "id": "22ecdfb3",
   "metadata": {},
   "outputs": [
    {
     "name": "stdout",
     "output_type": "stream",
     "text": [
      "Maybe it's better to add 4335 fences, just to be perfect\n"
     ]
    }
   ],
   "source": [
    "import math\n",
    "\n",
    "n = int(input())\n",
    "upper_round = 2**(int(math.log2(n))+1)-1\n",
    "lower_round = 2**(int(math.log2(n)))-1\n",
    "\n",
    "if n == upper_round or n == lower_round:\n",
    "    print(\"It's the perfect amount, nice!\")\n",
    "else:\n",
    "    print(f\"Maybe it's better to add {min(upper_round-n, n-lower_round)} fences, just to be perfect\")\n"
   ]
  },
  {
   "cell_type": "markdown",
   "id": "38705fc9",
   "metadata": {},
   "source": [
    "## Circles\n",
    "\n",
    "LOGIKA RUMUS: https://chatgpt.com/c/68bc262d-48bc-832f-8b03-b1b2cac7c075"
   ]
  },
  {
   "cell_type": "code",
   "execution_count": 57,
   "id": "9463995f",
   "metadata": {},
   "outputs": [
    {
     "name": "stdout",
     "output_type": "stream",
     "text": [
      "Tidaaaaaak, airnya muncrat!\n",
      "7.00\n"
     ]
    }
   ],
   "source": [
    "import math\n",
    "\n",
    "x1, y1, r1 = map(float, input().split())\n",
    "x2, y2, r2 = map(float, input().split())\n",
    "\n",
    "# Jarak antar pusat\n",
    "d = math.sqrt((x2-x1)**2 + (y2-y1)**2)\n",
    "\n",
    "# Ada titik yang saling intersect\n",
    "if d < r1+r2:\n",
    "    a = (r1**2 - r2**2 + d**2)/(2*d)\n",
    "    h = math.sqrt(r1**2 - a**2)\n",
    "    xm, ym = x1 + (a*(x2-x1))/d, y1 + (a*(y2-y1))/d\n",
    "    \n",
    "    x3 = round(xm + (h*(y2-y1))/d, 2)\n",
    "    y3 = round(ym - (h*(x2-x1))/d, 2)\n",
    "    x4 = round(xm - (h*(y2-y1))/d, 2)\n",
    "    y4 = round(ym + (h*(x2-x1))/d, 2)\n",
    "    sum = x3+x4+y3+y4\n",
    "    \n",
    "    # print(f\"{x3:.2f} {y3:.2f}\")\n",
    "    # print(f\"{x4:.2f} {y4:.2f}\")\n",
    "    \n",
    "    if x3 != x4 and y3 != y4:\n",
    "        print(\"Tidaaaaaak, airnya muncrat!\")\n",
    "        print(f\"{sum:.2f}\")\n",
    "    else:\n",
    "        print(\"Fyuh, hampir saja\")\n",
    "        print(f\"{x3:.2f} {y3:.2f}\")\n",
    "else:\n",
    "    print(\"Amang ges\")"
   ]
  },
  {
   "cell_type": "code",
   "execution_count": null,
   "id": "0e69b1ee",
   "metadata": {},
   "outputs": [
    {
     "name": "stdout",
     "output_type": "stream",
     "text": [
      "lucky number\n"
     ]
    }
   ],
   "source": [
    "palindrom = input()\n",
    "\n",
    "if 6 <= n <= 8 and palindrom == palindrom[::-1]:\n",
    "    print(\"lucky number\")\n",
    "else:\n",
    "    print(\"bukan lucky number\")\n"
   ]
  }
 ],
 "metadata": {
  "kernelspec": {
   "display_name": "dsml",
   "language": "python",
   "name": "python3"
  },
  "language_info": {
   "codemirror_mode": {
    "name": "ipython",
    "version": 3
   },
   "file_extension": ".py",
   "mimetype": "text/x-python",
   "name": "python",
   "nbconvert_exporter": "python",
   "pygments_lexer": "ipython3",
   "version": "3.13.5"
  }
 },
 "nbformat": 4,
 "nbformat_minor": 5
}
