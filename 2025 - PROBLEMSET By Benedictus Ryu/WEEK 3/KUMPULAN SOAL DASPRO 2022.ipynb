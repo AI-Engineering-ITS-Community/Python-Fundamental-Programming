{
 "cells": [
  {
   "cell_type": "markdown",
   "id": "6db19199",
   "metadata": {},
   "source": [
    "# SOAL 1 - BERMAIN STRING"
   ]
  },
  {
   "cell_type": "code",
   "execution_count": 7,
   "id": "9f580363",
   "metadata": {},
   "outputs": [
    {
     "name": "stdout",
     "output_type": "stream",
     "text": [
      "SA\n"
     ]
    }
   ],
   "source": [
    "n = int(input())\n",
    "s = input()\n",
    "ln = len(s)\n",
    "print(f\"{s[n%ln:]}{s[:n%ln]}\")"
   ]
  },
  {
   "cell_type": "markdown",
   "id": "4f069a91",
   "metadata": {},
   "source": [
    "# SOAL 2 - Djumanto Kebingungan"
   ]
  },
  {
   "cell_type": "code",
   "execution_count": 24,
   "id": "db2888f0",
   "metadata": {},
   "outputs": [
    {
     "name": "stdout",
     "output_type": "stream",
     "text": [
      "KitaSukaSoNiCe:)\n"
     ]
    }
   ],
   "source": [
    "n = int(input())\n",
    "ans = \"\"\n",
    "for _ in range(n):\n",
    "    s = int(input())\n",
    "    bin = \"\"\n",
    "    while(s > 0):\n",
    "        bin = bin + (chr((s%2) + ord('0')))\n",
    "        s = s//2 \n",
    "    if len(bin) != 32:\n",
    "        bin = bin + \"0\"*(32-len(bin))\n",
    "    cnt = 0\n",
    "    sv = \"\"\n",
    "    for i in range(1,5):\n",
    "        tmp = 0\n",
    "        div = 1\n",
    "        for el in bin[cnt:cnt+8]:\n",
    "            tmp+=(div*int(el))\n",
    "            div*=2\n",
    "        sv+=chr(tmp)\n",
    "        cnt+=8\n",
    "    ans+=sv[::-1]\n",
    "print(ans)"
   ]
  },
  {
   "cell_type": "markdown",
   "id": "c9d7e79b",
   "metadata": {},
   "source": [
    "# SOAL 3 - Gudang Mrs.Chemistrya"
   ]
  },
  {
   "cell_type": "code",
   "execution_count": 35,
   "id": "d72ce829",
   "metadata": {},
   "outputs": [
    {
     "name": "stdout",
     "output_type": "stream",
     "text": [
      "Di gudang tersisa 3 batu\n",
      "Total Kerugian: 396000 Dolar Imbu\n"
     ]
    }
   ],
   "source": [
    "s = input()\n",
    "n = len(s)\n",
    "cnt = 0\n",
    "ans = 0\n",
    "last = s[0]\n",
    "\n",
    "for i in range(1,n):\n",
    "    if last == s[i]:\n",
    "        cnt+=1\n",
    "        ans += ord(last)*1000\n",
    "    else:\n",
    "        last = s[i]\n",
    "    \n",
    "print(f\"Di gudang tersisa {n-cnt} batu\")\n",
    "if ans == 0:\n",
    "    print(\"Wah, Jotaro Joemama tidak jadi dipecat\")\n",
    "else:\n",
    "    print(f\"Total Kerugian: {ans} Dolar Imbu\")\n"
   ]
  },
  {
   "cell_type": "markdown",
   "id": "6ffb0971",
   "metadata": {},
   "source": [
    "# SOAL 4 - Si Paling Prima"
   ]
  },
  {
   "cell_type": "code",
   "execution_count": null,
   "id": "f0a9f5e8",
   "metadata": {},
   "outputs": [
    {
     "name": "stdout",
     "output_type": "stream",
     "text": [
      "Test Case #1 :\n",
      "13\n"
     ]
    }
   ],
   "source": [
    "n = int(input())\n",
    "# Sieve of  Erathoneses\n",
    "li = []\n",
    "tanda = [False]*1000000\n",
    "for i in range(2,1000000):\n",
    "    if tanda[i] == False:\n",
    "        tanda[i] = True\n",
    "        li.append(i)\n",
    "        for j in range(i,1000000,i):\n",
    "            tanda[j] = True\n",
    "\n",
    "\n",
    "for i in range(n):\n",
    "    a,b = map(int,input().split())\n",
    "    print(f\"Test Case #{i+1} :\")\n",
    "    for el in li[a-1:b]:\n",
    "        print(el)"
   ]
  },
  {
   "cell_type": "markdown",
   "id": "a7b3bafc",
   "metadata": {},
   "source": [
    "# SOAL 5 - CHARLIE WANTS SOME DRIPS"
   ]
  },
  {
   "cell_type": "code",
   "execution_count": null,
   "id": "ed5dff02",
   "metadata": {},
   "outputs": [
    {
     "name": "stdout",
     "output_type": "stream",
     "text": [
      "CHARLIE\n",
      "Jacket Ball Jean STORAGE\n",
      "Jacket: 6\n",
      "Sock: 10\n",
      "Ball: 4\n",
      "Jean: 9\n",
      "Watch: 10\n"
     ]
    }
   ],
   "source": [
    "n = int(input())\n",
    "d = dict()\n",
    "c = []\n",
    "for _ in range(n):\n",
    "    name,num = input().split()\n",
    "    d[name] = int(num)\n",
    "\n",
    "q = int(input())\n",
    "for _ in range(q):\n",
    "    name,num = input().split()\n",
    "    c.append(name)\n",
    "    d[name] -= int(num)\n",
    "\n",
    "print(\"CHARLIE\")\n",
    "for i in range(len(c)):\n",
    "    print(c[i], end=\" \")\n",
    "print()\n",
    "print(\"STORAGE\")\n",
    "for key in d:\n",
    "    print(f\"{key}: {d[key]}\")\n"
   ]
  },
  {
   "cell_type": "markdown",
   "id": "9a5030e7",
   "metadata": {},
   "source": [
    "# SOAL 6 - Array Senilai"
   ]
  },
  {
   "cell_type": "code",
   "execution_count": null,
   "id": "701bfce2",
   "metadata": {},
   "outputs": [
    {
     "name": "stdout",
     "output_type": "stream",
     "text": [
      "21\n",
      "21\n",
      "YA\n"
     ]
    }
   ],
   "source": [
    "n = int(input())\n",
    "a = [0]\n",
    "b = [0]\n",
    "li = map(int,input().split())\n",
    "for el in li:\n",
    "    a.append(a[-1]+el)\n",
    "li = map(int,input().split())\n",
    "for el in li:\n",
    "    b.append(b[-1]+el)\n",
    "\n",
    "q = int(input())\n",
    "for _ in range(q):\n",
    "    l,r = map(int, input().split())\n",
    "    print(\"YA\" if (a[r+1] - a[l]) == (b[r+1] - b[l]) else \"TIDAK\")"
   ]
  },
  {
   "cell_type": "markdown",
   "id": "4d28f18e",
   "metadata": {},
   "source": [
    "# SOAL 7 - Meitantei"
   ]
  },
  {
   "cell_type": "code",
   "execution_count": null,
   "id": "82066475",
   "metadata": {},
   "outputs": [
    {
     "name": "stdout",
     "output_type": "stream",
     "text": [
      "a\n",
      "a\n",
      "a\n",
      "a\n",
      "aad\n"
     ]
    }
   ],
   "source": [
    "cmd, k = map(int, input().split())\n",
    "\n",
    "while True:\n",
    "    try:\n",
    "        line = input()\n",
    "    except EOFError:\n",
    "        break\n",
    "    s = \"\"\n",
    "    if cmd == 1:  # Encrypt\n",
    "        for c in line:\n",
    "            if 'a' <= c <= 'z' or 'A' <= c <= 'Z':\n",
    "                alpha = 'a' if c.islower() else 'A'\n",
    "                s += chr((ord(c) + k - ord(alpha)) % 26 + ord(alpha))\n",
    "            else:\n",
    "                s += c\n",
    "    else:  # Decrypt\n",
    "        for c in line:\n",
    "            if 'a' <= c <= 'z' or 'A' <= c <= 'Z':\n",
    "                alpha = 'a' if c.islower() else 'A'\n",
    "                tmp = (ord(c) - k - ord(alpha)) % 26\n",
    "                s += chr(tmp + ord(alpha))\n",
    "            else:\n",
    "                s += c\n",
    "    print(s)\n"
   ]
  },
  {
   "cell_type": "markdown",
   "id": "09d7b532",
   "metadata": {},
   "source": [
    "# SOAL 8 - Tower Level Elevation"
   ]
  },
  {
   "cell_type": "code",
   "execution_count": null,
   "id": "dbd60550",
   "metadata": {},
   "outputs": [
    {
     "name": "stdout",
     "output_type": "stream",
     "text": [
      "[0, 1, 4, 8, 14, 19]\n",
      "EZ banget, energiku sisa 5!\n"
     ]
    }
   ],
   "source": [
    "n,e,k = map(int,input().split())\n",
    "li = list(map(int,input().split()))\n",
    "pref = [0]\n",
    "total = 0\n",
    "for e in li:\n",
    "    pref.append(pref[-1]+e)\n",
    "print(pref)\n",
    "for i in range(k):\n",
    "    l,r = map(int,input().split())\n",
    "    print(pref[r-1] - pref[l-1])\n",
    "    total += pref[r-1] - pref[l-1]\n",
    "sisa = e - total\n",
    "if sisa < 0:\n",
    "    print(f\"NT, kurang {abs(sisa)} energi sih.\")\n",
    "else:\n",
    "    print(f\"EZ banget, energiku sisa {sisa}!\")"
   ]
  },
  {
   "cell_type": "markdown",
   "id": "8e6096a7",
   "metadata": {},
   "source": [
    "# SOAL 9 - Aku Kamu dan Tangga"
   ]
  },
  {
   "cell_type": "code",
   "execution_count": 24,
   "id": "89223cd6",
   "metadata": {},
   "outputs": [
    {
     "name": "stdout",
     "output_type": "stream",
     "text": [
      "           I\n",
      "         I U\n",
      "       I U I\n",
      "     I U I U\n",
      "   I U I U I\n"
     ]
    }
   ],
   "source": [
    "n,m = input().split()\n",
    "n = int(n)\n",
    "\n",
    "if m == \"Aku\":\n",
    "    for i in range(n):\n",
    "        for j in range(i+1):\n",
    "            if (i+j)&1:\n",
    "                print(\"U\", end=\" \")\n",
    "            else:\n",
    "                print(\"I\", end=\" \")\n",
    "        print()\n",
    "else:\n",
    "    for i in range(n):\n",
    "        print(\" \"*(n-i)*2, end=\"\")\n",
    "        s=\"\"\n",
    "        for j in range(n):\n",
    "            if j<=i:\n",
    "                if (i+j)&1:\n",
    "                    s+=\"U \"\n",
    "                else:\n",
    "                    s+=\"I \"\n",
    "        print(s[::-1])                "
   ]
  },
  {
   "cell_type": "markdown",
   "id": "685727ae",
   "metadata": {},
   "source": [
    "# SOAL 10 - Detektif Cika"
   ]
  },
  {
   "cell_type": "code",
   "execution_count": 2,
   "id": "197270f1",
   "metadata": {},
   "outputs": [
    {
     "name": "stdout",
     "output_type": "stream",
     "text": [
      "okmq mwtcpi mgtlccp\n",
      "emang kurang kerjaan si miko\n"
     ]
    }
   ],
   "source": [
    "t = int(input())\n",
    "for _ in range(t):\n",
    "    cmd, k = map(int, input().split())\n",
    "    line = input()\n",
    "    s=\"\"\n",
    "    if cmd == 1:  # Encrypt\n",
    "        for c in line:\n",
    "            if 'a' <= c <= 'z' or 'A' <= c <= 'Z':\n",
    "                alpha = 'a' if c.islower() else 'A'\n",
    "                s += chr((ord(c) + k - ord(alpha)) % 26 + ord(alpha))\n",
    "            else:\n",
    "                s += c\n",
    "    else:  # Decrypt\n",
    "        for c in line:\n",
    "            if 'a' <= c <= 'z' or 'A' <= c <= 'Z':\n",
    "                alpha = 'a' if c.islower() else 'A'\n",
    "                tmp = (ord(c) - k - ord(alpha)) % 26\n",
    "                s += chr(tmp + ord(alpha))\n",
    "            else:\n",
    "                s += c\n",
    "    print(s)"
   ]
  },
  {
   "cell_type": "markdown",
   "id": "076745bc",
   "metadata": {},
   "source": [
    "# SOAL 11 - Terkunci"
   ]
  },
  {
   "cell_type": "code",
   "execution_count": 11,
   "id": "818901a8",
   "metadata": {},
   "outputs": [
    {
     "name": "stdout",
     "output_type": "stream",
     "text": [
      "BerapHdilutn[C]gkos1x0^-8M?\n"
     ]
    }
   ],
   "source": [
    "ans = \"\"\n",
    "s = input()\n",
    "s = s.replace(\" \", \"\")\n",
    "\n",
    "for c in s:\n",
    "    if c!='”' and c!='“' and c not in ans:\n",
    "        ans+=c\n",
    "        \n",
    "print(ans)\n"
   ]
  },
  {
   "cell_type": "markdown",
   "id": "39f34083",
   "metadata": {},
   "source": [
    "# SOAL 12 - Ujana: Pesan Misterius (ez kok ini)"
   ]
  },
  {
   "cell_type": "code",
   "execution_count": 13,
   "id": "9df1b5b6",
   "metadata": {},
   "outputs": [
    {
     "name": "stdout",
     "output_type": "stream",
     "text": [
      "minta acar"
     ]
    }
   ],
   "source": [
    "s = input()\n",
    "n = int(input())\n",
    "li = list(map(int,input().split()))\n",
    "for el in li:\n",
    "    print(s[el], end=\"\")"
   ]
  }
 ],
 "metadata": {
  "kernelspec": {
   "display_name": "dsml",
   "language": "python",
   "name": "python3"
  },
  "language_info": {
   "codemirror_mode": {
    "name": "ipython",
    "version": 3
   },
   "file_extension": ".py",
   "mimetype": "text/x-python",
   "name": "python",
   "nbconvert_exporter": "python",
   "pygments_lexer": "ipython3",
   "version": "3.13.5"
  }
 },
 "nbformat": 4,
 "nbformat_minor": 5
}
