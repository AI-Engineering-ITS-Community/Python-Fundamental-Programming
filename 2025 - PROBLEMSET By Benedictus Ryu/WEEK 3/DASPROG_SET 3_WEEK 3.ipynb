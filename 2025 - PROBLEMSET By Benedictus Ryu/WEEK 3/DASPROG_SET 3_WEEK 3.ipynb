{
 "cells": [
  {
   "cell_type": "markdown",
   "id": "cced3c1a",
   "metadata": {},
   "source": [
    "# MEMBELI BARANG"
   ]
  },
  {
   "cell_type": "code",
   "execution_count": null,
   "id": "f466c9b0",
   "metadata": {},
   "outputs": [
    {
     "name": "stdout",
     "output_type": "stream",
     "text": [
      "-10\n"
     ]
    }
   ],
   "source": [
    "n,m = map(int,input().split())\n",
    "p = list(map(int,input().split()))\n",
    "c = list(map(int,input().split()))\n",
    "\n",
    "sum = 0\n",
    "\n",
    "for x in p:\n",
    "    if x > 0:\n",
    "        sum += -x\n",
    "for x in c:\n",
    "    if x < 0:\n",
    "        sum += x\n",
    "print(sum)\n"
   ]
  },
  {
   "cell_type": "markdown",
   "id": "01eafcd9",
   "metadata": {},
   "source": [
    "# MEMBELI BUAH"
   ]
  },
  {
   "cell_type": "code",
   "execution_count": null,
   "id": "1b0613f3",
   "metadata": {},
   "outputs": [
    {
     "name": "stdout",
     "output_type": "stream",
     "text": [
      "3\n"
     ]
    }
   ],
   "source": [
    "n,k = map(int,input().split())\n",
    "p = list(map(int,input().split()))\n",
    "ans=0\n",
    "for x in p:\n",
    "    if x <= k:\n",
    "        ans+=1\n"
   ]
  },
  {
   "cell_type": "markdown",
   "id": "bbfaf404",
   "metadata": {},
   "source": [
    "# MENJELAJAH HUTAN"
   ]
  },
  {
   "cell_type": "code",
   "execution_count": null,
   "id": "f52efbf0",
   "metadata": {},
   "outputs": [
    {
     "name": "stdout",
     "output_type": "stream",
     "text": [
      "[1, 0]\n",
      "[0, -1]\n",
      "[-1, 0]\n",
      "[-1, 0]\n",
      "[-1, 0]\n",
      "[0, 1]\n"
     ]
    }
   ],
   "source": [
    "r,c,n = map(int,input().split())\n",
    "# R, L, U, D\n",
    "dir = {\"R\" : [0,1], \n",
    "       \"L\" : [0,-1], \n",
    "       \"U\" : [-1,0], \n",
    "       \"D\" : [1,0]}\n",
    "mp = []\n",
    "for i in range(r):\n",
    "    tmp = list(map(int,input().split()))\n",
    "    mp.append(tmp)\n",
    "x,y = 0,0\n",
    "mv = input()\n",
    "ans = mp[0][0]\n",
    "check=True\n",
    "for m in mv:\n",
    "    x += dir[m][0]\n",
    "    y += dir[m][1]\n",
    "    # print(f\"{x}, {y}\")\n",
    "    if 0<=x<c and 0<=y<r:\n",
    "        ans+=mp[y][x]\n",
    "    else:\n",
    "        check = False\n",
    "        break\n",
    "    if m == \"L\" or m == \"D\":\n",
    "        ans-=2\n",
    "    else:\n",
    "        ans+=3\n",
    "print(ans)\n",
    "if not check:\n",
    "    print(\"gerakanmu salah bung!\")"
   ]
  },
  {
   "cell_type": "markdown",
   "id": "2b0a8789",
   "metadata": {},
   "source": [
    "# TEMAN SEBANGKU"
   ]
  },
  {
   "cell_type": "code",
   "execution_count": null,
   "id": "9e0c4070",
   "metadata": {},
   "outputs": [
    {
     "name": "stdout",
     "output_type": "stream",
     "text": [
      "[[0, 0, 0, 0]]\n"
     ]
    }
   ],
   "source": [
    "n,r,c = map(int,input().split())\n",
    "mp = [[0]*(c+1)]\n",
    "li = dict()\n",
    "for _ in range(r):\n",
    "    mp.append([0]*(c+2))\n",
    "\n",
    "for i in range(n):\n",
    "    x,a,b = map(int,input().split())\n",
    "    li[x] = [a,b]\n",
    "    mp[a][b] = x \n",
    "\n",
    "for i in range(1,n+1):\n",
    "    a = li[i][0]\n",
    "    b = li[i][1]\n",
    "    if mp[a][b+1] != 0:\n",
    "        print(mp[a][b+1])\n",
    "    elif mp[a][b-1] != 0:\n",
    "        print(mp[a][b-1])\n",
    "    else:\n",
    "        print(0)"
   ]
  }
 ],
 "metadata": {
  "kernelspec": {
   "display_name": "dsml",
   "language": "python",
   "name": "python3"
  },
  "language_info": {
   "codemirror_mode": {
    "name": "ipython",
    "version": 3
   },
   "file_extension": ".py",
   "mimetype": "text/x-python",
   "name": "python",
   "nbconvert_exporter": "python",
   "pygments_lexer": "ipython3",
   "version": "3.13.5"
  }
 },
 "nbformat": 4,
 "nbformat_minor": 5
}
