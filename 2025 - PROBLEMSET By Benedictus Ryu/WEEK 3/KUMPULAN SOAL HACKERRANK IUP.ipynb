{
 "cells": [
  {
   "cell_type": "markdown",
   "id": "2aa11b27",
   "metadata": {},
   "source": [
    "# Tama's Story: Tribute to Avicii\n",
    "https://www.hackerrank.com/contests/dp-modul-2-iup/challenges/tamas-story-tribute-to-avicii"
   ]
  },
  {
   "cell_type": "code",
   "execution_count": 5,
   "id": "6bdb8ca5",
   "metadata": {},
   "outputs": [
    {
     "name": "stdout",
     "output_type": "stream",
     "text": [
      "* ****\n",
      "** ***\n",
      "*** **\n",
      "**** *\n",
      "\n",
      "* ******\n",
      "** *****\n",
      "*** ****\n",
      "**** ***\n",
      "***** **\n",
      "****** *\n",
      "\n"
     ]
    }
   ],
   "source": [
    "t = int(input())\n",
    "for _ in range(t):\n",
    "    row, col = map(int,input().split())\n",
    "    for i in range(row):\n",
    "        for j in range(col):\n",
    "            if i != j-1:\n",
    "                print(\"*\", end=\"\")\n",
    "            else:\n",
    "                print(\" \", end=\"\")\n",
    "        print()\n",
    "    print()"
   ]
  },
  {
   "cell_type": "markdown",
   "id": "0f6be3cb",
   "metadata": {},
   "source": [
    "# TP1 - TAMA'S PROBLEM #1\n",
    "https://www.hackerrank.com/contests/dp-modul-2-iup/challenges/tamas-problem-1"
   ]
  },
  {
   "cell_type": "code",
   "execution_count": null,
   "id": "5a1c2048",
   "metadata": {},
   "outputs": [
    {
     "name": "stdout",
     "output_type": "stream",
     "text": [
      "JCNQ \n"
     ]
    }
   ],
   "source": [
    "t = int(input())\n",
    "for _ in range(t):\n",
    "    n = int(input())\n",
    "    li = input().split()\n",
    "    for string in li:\n",
    "        for element in string:\n",
    "            if element.islower():\n",
    "                print(chr(((ord(element) - ord('a') + n)%26) + ord('a')), end=\"\")\n",
    "            else:\n",
    "                print(chr(((ord(element) - ord('A') + n)%26) + ord('A')), end=\"\")\n",
    "        print(end=\" \")\n",
    "    print()"
   ]
  },
  {
   "cell_type": "markdown",
   "id": "a901a933",
   "metadata": {},
   "source": [
    "# MS - MATCHING SHOES\n",
    "https://www.hackerrank.com/contests/dp-modul-2-iup/challenges/matching-shoes"
   ]
  },
  {
   "cell_type": "code",
   "execution_count": null,
   "id": "7eef0f5e",
   "metadata": {},
   "outputs": [
    {
     "name": "stdout",
     "output_type": "stream",
     "text": [
      "0\n"
     ]
    }
   ],
   "source": [
    "n = int(input())\n",
    "ans = 0\n",
    "R = []\n",
    "L = []\n",
    "for _ in range(n):\n",
    "    s = input()\n",
    "    num = \"\"\n",
    "    \n",
    "    for element in s:\n",
    "        if element.isnumeric() or element == 'L' or element == 'R':\n",
    "            num += element\n",
    "    # print(num)  \n",
    "    if num[-1] == 'L' and num[:len(num)-1] not in R:\n",
    "        L.append(num[:len(num)-1])\n",
    "    elif num[-1] == 'R' and num[:len(num)-1] not in L:\n",
    "        R.append(num[:len(num)-1])\n",
    "    else:\n",
    "        ans+=1\n",
    "print(ans)"
   ]
  },
  {
   "cell_type": "markdown",
   "id": "f1467f5b",
   "metadata": {},
   "source": [
    "# KTS - KIWA THE SPY\n",
    "https://www.hackerrank.com/contests/dp-modul-2-iup/challenges/kiwa-the-spy"
   ]
  },
  {
   "cell_type": "code",
   "execution_count": null,
   "id": "8a9f79fa",
   "metadata": {},
   "outputs": [
    {
     "name": "stdout",
     "output_type": "stream",
     "text": [
      "OH NOW YOU FIND ME "
     ]
    }
   ],
   "source": [
    "t = int(input())\n",
    "for _ in range(t):\n",
    "    decrypt = input()\n",
    "    sentence = list(input().split())\n",
    "    key = \"TRUESKILL\"\n",
    "    ln = len(key)\n",
    "    cnt = 0\n",
    "    if decrypt == 0:\n",
    "        for word in sentence:\n",
    "            for char in word:\n",
    "                tmp = chr( (ord(char) + ord(key[cnt%ln]) - 2*ord('A')) %26 + ord('A'))\n",
    "                cnt+=1\n",
    "                print(tmp, end=\"\")\n",
    "            print(end=\" \")\n",
    "    else:\n",
    "        for word in sentence:\n",
    "            for char in word:\n",
    "                tmp = (ord(char) - ord(key[cnt%ln])) %26\n",
    "                tmp = chr( (tmp+26 if tmp < 0 else tmp) + ord('A'))\n",
    "                cnt+=1\n",
    "                print(tmp, end=\"\")\n",
    "            print(end=\" \")"
   ]
  },
  {
   "cell_type": "markdown",
   "id": "3a2d874c",
   "metadata": {},
   "source": [
    "# FTG - Framing the G\n",
    "https://www.hackerrank.com/contests/dp-modul-2-iup/challenges/framing-the-g"
   ]
  },
  {
   "cell_type": "code",
   "execution_count": 64,
   "id": "3544bafb",
   "metadata": {},
   "outputs": [
    {
     "name": "stdout",
     "output_type": "stream",
     "text": [
      "**********\n",
      "**********\n",
      "**********\n",
      "**********\n",
      "****  ****\n",
      "****  ****\n",
      "**********\n",
      "**********\n",
      "**********\n",
      "**********\n"
     ]
    }
   ],
   "source": [
    "n,m = map(int,input().split())\n",
    "for i in range(n):\n",
    "    if i < m or i >= (n-m):\n",
    "        print(\"*\"*n)\n",
    "    else:\n",
    "        print(f\"{\"*\"*m}{\" \"*(n-2*m)}{\"*\"*m}\")"
   ]
  },
  {
   "cell_type": "markdown",
   "id": "4eb1deb3",
   "metadata": {},
   "source": [
    "# DB - Deepened Bond\n",
    "https://www.hackerrank.com/contests/dp-modul-2-iup/challenges/the-square-of-squares"
   ]
  },
  {
   "cell_type": "code",
   "execution_count": 2,
   "id": "c45b3055",
   "metadata": {},
   "outputs": [
    {
     "name": "stdout",
     "output_type": "stream",
     "text": [
      "LEAVE\n",
      "LEAVE\n"
     ]
    }
   ],
   "source": [
    "t = int(input())\n",
    "for _ in range(t):\n",
    "    n = input()\n",
    "    print(\"LEAVE\")"
   ]
  },
  {
   "cell_type": "markdown",
   "id": "b1d4a0d1",
   "metadata": {},
   "source": [
    "# BITB - BIRTHDAY IN THE BATTLEFIELD \n",
    "\n",
    "DISCLAIMER: THIS PROBLEM HAVEN'T GOT ACCEPTED IN HACKERRANK"
   ]
  },
  {
   "cell_type": "code",
   "execution_count": null,
   "id": "f92d9956",
   "metadata": {},
   "outputs": [
    {
     "name": "stdout",
     "output_type": "stream",
     "text": [
      "      *\n",
      "     |-|\n",
      "     |-|\n",
      "     |-|\n",
      "   -------\n",
      "   |=====|\n",
      "   |=====|\n",
      "   |=====|\n",
      "   |=====|\n",
      "--------------\n",
      "|============|\n",
      "|============|\n",
      "|============|\n",
      "--------------\n"
     ]
    }
   ],
   "source": [
    "n = int(input())\n",
    "\"\"\"\n",
    "    b =  bawah\n",
    "    t = tengah\n",
    "    a = atas\n",
    "        \n",
    "    h = horizontal\n",
    "    v = vertical\n",
    "\"\"\"\n",
    "    \n",
    "\n",
    "if n <= 8: \n",
    "    print(\"TOO SMALL\")\n",
    "else:\n",
    "    if n&1: # Ganjil\n",
    "        h_d_t = (n-7)//2\n",
    "        h_d_b = (n-5)//2\n",
    "        \n",
    "        \n",
    "        #Buat dikali Bintang\n",
    "        h_t_t = 1 + 2*(h_d_t)\n",
    "        h_t_b = h_t_t + 2*(h_d_b) +1\n",
    "        \n",
    "        h_s_bintang = h_d_b+h_d_t+1\n",
    "        h_s_a = h_s_bintang-1\n",
    "        h_s_t = h_d_b\n",
    "        \n",
    "        v_a = 3\n",
    "        v_t = (n+4)//4+1\n",
    "        v_b = v_t - 1\n",
    "        \n",
    "        # Bintang\n",
    "        print(f\"{\" \"*h_s_bintang}*\")\n",
    "        \n",
    "        # Atas\n",
    "        for _ in range(v_a):\n",
    "            print(f\"{\" \" * h_s_a}|-|\")\n",
    "        \n",
    "        # Tengah\n",
    "        print(f\"{\" \" * h_s_t}{\"-\" * (h_t_t+2)}\")\n",
    "        for _ in range(v_t):\n",
    "            print(f\"{\" \" * h_s_t}|{\"=\"*h_t_t}|\")\n",
    "            \n",
    "        # Bawah\n",
    "        print(f\"{\"-\" * (h_t_b+2)}\")\n",
    "        for _ in range(v_b):\n",
    "            print(f\"|{\"=\"*h_t_b}|\")\n",
    "        print(f\"{\"-\" * (h_t_b+2)}\")\n",
    "        \n",
    "    else: # Genap\n",
    "        h_d_t = (n-8)//4+1\n",
    "        h_d_b = ((n-7)//2 if n != 10 else 2)\n",
    "        \n",
    "        \n",
    "        #Buat dikali Bintang\n",
    "        h_t_t = 1 + 2*(h_d_t)\n",
    "        h_t_b = h_t_t + 2*(h_d_b) +1\n",
    "        \n",
    "        h_s_bintang = h_d_b+h_d_t+1\n",
    "        h_s_a = h_s_bintang-1\n",
    "        h_s_t = h_d_b\n",
    "        \n",
    "        v_a = 3\n",
    "        v_t = (n-4)//2\n",
    "        v_b = v_t\n",
    "        \n",
    "        # Bintang\n",
    "        print(f\"{\" \"*h_s_bintang}*\")\n",
    "        \n",
    "        # Atas\n",
    "        for _ in range(v_a):\n",
    "            print(f\"{\" \" * h_s_a}|-|\")\n",
    "        \n",
    "        # Tengah\n",
    "        print(f\"{\" \" * h_s_t}{\"-\" * (h_t_t+2)}\")\n",
    "        for _ in range(v_t):\n",
    "            print(f\"{\" \" * h_s_t}|{\"=\"*h_t_t}|\")\n",
    "            \n",
    "        # Bawah\n",
    "        print(f\"{\"-\" * (h_t_b+2)}\")\n",
    "        for _ in range(v_t):\n",
    "            print(f\"|{\"=\"*h_t_b}|\")\n",
    "        print(f\"{\"-\" * (h_t_b+2)}\")   "
   ]
  },
  {
   "cell_type": "markdown",
   "id": "980a775f",
   "metadata": {},
   "source": [
    "# ASC - Slight Change\n",
    "https://www.hackerrank.com/contests/dp-modul-2-iup/challenges/a-slight-change"
   ]
  },
  {
   "cell_type": "code",
   "execution_count": 62,
   "id": "c929954a",
   "metadata": {},
   "outputs": [
    {
     "name": "stdout",
     "output_type": "stream",
     "text": [
      "9\n"
     ]
    }
   ],
   "source": [
    "n = int(input())\n",
    "li = [0,0,0,0,0,0,0,0,0,0]\n",
    "s = map(int,input().split())\n",
    "for tmp in s:\n",
    "    li[tmp]+=1\n",
    "li.sort()\n",
    "print(n - li[-1])"
   ]
  }
 ],
 "metadata": {
  "kernelspec": {
   "display_name": "dsml",
   "language": "python",
   "name": "python3"
  },
  "language_info": {
   "codemirror_mode": {
    "name": "ipython",
    "version": 3
   },
   "file_extension": ".py",
   "mimetype": "text/x-python",
   "name": "python",
   "nbconvert_exporter": "python",
   "pygments_lexer": "ipython3",
   "version": "3.13.5"
  }
 },
 "nbformat": 4,
 "nbformat_minor": 5
}
